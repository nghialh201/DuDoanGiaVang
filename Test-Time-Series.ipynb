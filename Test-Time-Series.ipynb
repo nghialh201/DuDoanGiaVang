{
 "cells": [
  {
   "cell_type": "code",
   "execution_count": 1,
   "id": "ab5c5c8b",
   "metadata": {},
   "outputs": [],
   "source": [
    "# Import libraries to get gold price from investing.com\n",
    "import investpy\n",
    "import datetime"
   ]
  },
  {
   "cell_type": "code",
   "execution_count": 2,
   "id": "65f8655b",
   "metadata": {},
   "outputs": [
    {
     "name": "stdout",
     "output_type": "stream",
     "text": [
      "06/06/2022\n"
     ]
    }
   ],
   "source": [
    "# Check the current day and reformat to  dd/mm/yyyy\n",
    "t=datetime.date.today()\n",
    "today=t.strftime(\"%d/%m/%Y\")\n",
    "print(today)"
   ]
  },
  {
   "cell_type": "code",
   "execution_count": 3,
   "id": "4a4ececf",
   "metadata": {},
   "outputs": [
    {
     "data": {
      "text/html": [
       "<div>\n",
       "<style scoped>\n",
       "    .dataframe tbody tr th:only-of-type {\n",
       "        vertical-align: middle;\n",
       "    }\n",
       "\n",
       "    .dataframe tbody tr th {\n",
       "        vertical-align: top;\n",
       "    }\n",
       "\n",
       "    .dataframe thead th {\n",
       "        text-align: right;\n",
       "    }\n",
       "</style>\n",
       "<table border=\"1\" class=\"dataframe\">\n",
       "  <thead>\n",
       "    <tr style=\"text-align: right;\">\n",
       "      <th></th>\n",
       "      <th>Open</th>\n",
       "      <th>High</th>\n",
       "      <th>Low</th>\n",
       "      <th>Close</th>\n",
       "      <th>Volume</th>\n",
       "      <th>Currency</th>\n",
       "    </tr>\n",
       "    <tr>\n",
       "      <th>Date</th>\n",
       "      <th></th>\n",
       "      <th></th>\n",
       "      <th></th>\n",
       "      <th></th>\n",
       "      <th></th>\n",
       "      <th></th>\n",
       "    </tr>\n",
       "  </thead>\n",
       "  <tbody>\n",
       "    <tr>\n",
       "      <th>2020-08-03</th>\n",
       "      <td>1979.70</td>\n",
       "      <td>1992.10</td>\n",
       "      <td>1958.50</td>\n",
       "      <td>1969.50</td>\n",
       "      <td>2824</td>\n",
       "      <td>USD</td>\n",
       "    </tr>\n",
       "    <tr>\n",
       "      <th>2020-08-04</th>\n",
       "      <td>1976.60</td>\n",
       "      <td>2020.50</td>\n",
       "      <td>1968.10</td>\n",
       "      <td>2004.20</td>\n",
       "      <td>3913</td>\n",
       "      <td>USD</td>\n",
       "    </tr>\n",
       "    <tr>\n",
       "      <th>2020-08-05</th>\n",
       "      <td>2020.20</td>\n",
       "      <td>2053.50</td>\n",
       "      <td>2011.20</td>\n",
       "      <td>2032.90</td>\n",
       "      <td>4751</td>\n",
       "      <td>USD</td>\n",
       "    </tr>\n",
       "    <tr>\n",
       "      <th>2020-08-06</th>\n",
       "      <td>2036.90</td>\n",
       "      <td>2065.10</td>\n",
       "      <td>2033.60</td>\n",
       "      <td>2054.60</td>\n",
       "      <td>2610</td>\n",
       "      <td>USD</td>\n",
       "    </tr>\n",
       "    <tr>\n",
       "      <th>2020-08-07</th>\n",
       "      <td>2062.40</td>\n",
       "      <td>2074.00</td>\n",
       "      <td>2011.00</td>\n",
       "      <td>2014.30</td>\n",
       "      <td>4374</td>\n",
       "      <td>USD</td>\n",
       "    </tr>\n",
       "    <tr>\n",
       "      <th>...</th>\n",
       "      <td>...</td>\n",
       "      <td>...</td>\n",
       "      <td>...</td>\n",
       "      <td>...</td>\n",
       "      <td>...</td>\n",
       "      <td>...</td>\n",
       "    </tr>\n",
       "    <tr>\n",
       "      <th>2022-06-01</th>\n",
       "      <td>1840.00</td>\n",
       "      <td>1853.00</td>\n",
       "      <td>1830.20</td>\n",
       "      <td>1848.70</td>\n",
       "      <td>158036</td>\n",
       "      <td>USD</td>\n",
       "    </tr>\n",
       "    <tr>\n",
       "      <th>2022-06-02</th>\n",
       "      <td>1849.90</td>\n",
       "      <td>1874.40</td>\n",
       "      <td>1846.50</td>\n",
       "      <td>1871.40</td>\n",
       "      <td>127471</td>\n",
       "      <td>USD</td>\n",
       "    </tr>\n",
       "    <tr>\n",
       "      <th>2022-06-03</th>\n",
       "      <td>1872.60</td>\n",
       "      <td>1878.60</td>\n",
       "      <td>1849.70</td>\n",
       "      <td>1850.20</td>\n",
       "      <td>115343</td>\n",
       "      <td>USD</td>\n",
       "    </tr>\n",
       "    <tr>\n",
       "      <th>2022-06-05</th>\n",
       "      <td>1853.40</td>\n",
       "      <td>1856.15</td>\n",
       "      <td>1852.85</td>\n",
       "      <td>1854.00</td>\n",
       "      <td>0</td>\n",
       "      <td>USD</td>\n",
       "    </tr>\n",
       "    <tr>\n",
       "      <th>2022-06-06</th>\n",
       "      <td>1854.25</td>\n",
       "      <td>1858.75</td>\n",
       "      <td>1853.10</td>\n",
       "      <td>1858.05</td>\n",
       "      <td>0</td>\n",
       "      <td>USD</td>\n",
       "    </tr>\n",
       "  </tbody>\n",
       "</table>\n",
       "<p>488 rows × 6 columns</p>\n",
       "</div>"
      ],
      "text/plain": [
       "               Open     High      Low    Close  Volume Currency\n",
       "Date                                                           \n",
       "2020-08-03  1979.70  1992.10  1958.50  1969.50    2824      USD\n",
       "2020-08-04  1976.60  2020.50  1968.10  2004.20    3913      USD\n",
       "2020-08-05  2020.20  2053.50  2011.20  2032.90    4751      USD\n",
       "2020-08-06  2036.90  2065.10  2033.60  2054.60    2610      USD\n",
       "2020-08-07  2062.40  2074.00  2011.00  2014.30    4374      USD\n",
       "...             ...      ...      ...      ...     ...      ...\n",
       "2022-06-01  1840.00  1853.00  1830.20  1848.70  158036      USD\n",
       "2022-06-02  1849.90  1874.40  1846.50  1871.40  127471      USD\n",
       "2022-06-03  1872.60  1878.60  1849.70  1850.20  115343      USD\n",
       "2022-06-05  1853.40  1856.15  1852.85  1854.00       0      USD\n",
       "2022-06-06  1854.25  1858.75  1853.10  1858.05       0      USD\n",
       "\n",
       "[488 rows x 6 columns]"
      ]
     },
     "execution_count": 3,
     "metadata": {},
     "output_type": "execute_result"
    }
   ],
   "source": [
    "# Get gold price from investing.com, name index to Date\n",
    "df=investpy.commodities.get_commodity_historical_data(commodity='gold',from_date='01/08/2020',to_date=today)\n",
    "df"
   ]
  },
  {
   "cell_type": "code",
   "execution_count": 4,
   "id": "f94fdc64",
   "metadata": {},
   "outputs": [
    {
     "name": "stdout",
     "output_type": "stream",
     "text": [
      "               Open     High      Low    Close\n",
      "Date                                          \n",
      "2020-08-03  1979.70  1992.10  1958.50  1969.50\n",
      "2020-08-04  1976.60  2020.50  1968.10  2004.20\n",
      "2020-08-05  2020.20  2053.50  2011.20  2032.90\n",
      "2020-08-06  2036.90  2065.10  2033.60  2054.60\n",
      "2020-08-07  2062.40  2074.00  2011.00  2014.30\n",
      "...             ...      ...      ...      ...\n",
      "2022-06-01  1840.00  1853.00  1830.20  1848.70\n",
      "2022-06-02  1849.90  1874.40  1846.50  1871.40\n",
      "2022-06-03  1872.60  1878.60  1849.70  1850.20\n",
      "2022-06-05  1853.40  1856.15  1852.85  1854.00\n",
      "2022-06-06  1854.25  1858.75  1853.10  1858.05\n",
      "\n",
      "[488 rows x 4 columns]\n"
     ]
    }
   ],
   "source": [
    "# Cleaning Data\n",
    "del df['Volume']\n",
    "del df['Currency']\n",
    "# Cleaning Empty Cells\n",
    "df.dropna(inplace=True)\n",
    "# Cleaning Data of Wrong Format\n",
    "# Cleaning Wrong Data\n",
    "for x in df.index:\n",
    "    if df.loc[x,'Open']==0:\n",
    "        df.drop(x,inplace=True)\n",
    "print(df)"
   ]
  },
  {
   "cell_type": "code",
   "execution_count": 5,
   "id": "3b719260",
   "metadata": {},
   "outputs": [
    {
     "name": "stdout",
     "output_type": "stream",
     "text": [
      "<class 'pandas.core.indexes.datetimes.DatetimeIndex'>\n",
      "Open     float64\n",
      "High     float64\n",
      "Low      float64\n",
      "Close    float64\n",
      "dtype: object\n"
     ]
    }
   ],
   "source": [
    "# Check if index is Date or not?\n",
    "print(type(df.index))\n",
    "# Check if data type of every columns are Float\n",
    "print(df.dtypes)"
   ]
  },
  {
   "cell_type": "code",
   "execution_count": 6,
   "id": "96eaa4d0",
   "metadata": {},
   "outputs": [],
   "source": [
    "# Import libraries to build ARIMA model\n",
    "import pandas as pd\n",
    "import numpy as np\n",
    "%matplotlib inline\n",
    "from statsmodels.tsa.arima.model import ARIMA,ARIMAResults\n",
    "from statsmodels.graphics.tsaplots import plot_acf,plot_pacf\n",
    "from pmdarima import auto_arima\n",
    "import warnings\n",
    "warnings.filterwarnings(\"ignore\")"
   ]
  },
  {
   "cell_type": "code",
   "execution_count": 7,
   "id": "e574574e",
   "metadata": {},
   "outputs": [],
   "source": [
    "# Automate the augmented Dickey-Fuller Test\n",
    "from statsmodels.tsa.stattools import adfuller\n",
    "def adf_test(series,title=''):\n",
    "    print(f'Augmented Dickey-Fuller Test: {title}')\n",
    "    result = adfuller(series.dropna(),autolag='AIC')    \n",
    "    labels = ['ADF test statistic','p-value','# lags used','# observations']\n",
    "    out = pd.Series(result[0:4],index=labels)\n",
    "    for key,val in result[4].items():\n",
    "        out[f'critical value ({key})']=val\n",
    "    print(out.to_string())\n",
    "    if result[1] <= 0.05:\n",
    "        print(\"Strong evidence against the null hypothesis\")\n",
    "        print(\"Reject the null hypothesis\")\n",
    "        print(\"Data has no unit root and is stationary\")\n",
    "    else:\n",
    "        print(\"Weak evidence against the null hypothesis\")\n",
    "        print(\"Fail to reject the null hypothesis\")\n",
    "        print(\"Data has a unit root and is non-stationary\")"
   ]
  },
  {
   "cell_type": "code",
   "execution_count": 8,
   "id": "7dc0a459",
   "metadata": {},
   "outputs": [
    {
     "data": {
      "image/png": "[encoded data removed]",
      "text/plain": [
       "<Figure size 864x432 with 1 Axes>"
      ]
     },
     "metadata": {
      "needs_background": "light"
     },
     "output_type": "display_data"
    }
   ],
   "source": [
    "# Plot the Source Data\n",
    "ax=df['Open'].plot(figsize=(12,6),title='Gold Price')\n",
    "ax.autoscale(axis='x',tight=True)\n",
    "ax.set(xlabel='',ylabel='USD');"
   ]
  },
  {
   "cell_type": "code",
   "execution_count": 9,
   "id": "34a20baa",
   "metadata": {
    "scrolled": true
   },
   "outputs": [
    {
     "data": {
      "image/png": "[encoded data removed]",
      "text/plain": [
       "<Figure size 432x288 with 4 Axes>"
      ]
     },
     "metadata": {
      "needs_background": "light"
     },
     "output_type": "display_data"
    }
   ],
   "source": [
    "# Run an ETS Decomposition (Error-Trend-Seasonality Decomposition)\n",
    "from statsmodels.tsa.seasonal import seasonal_decompose\n",
    "result=seasonal_decompose(df['Open'],model='addictive',period=1)\n",
    "result.plot();\n",
    "#Observed-Trend-Seasonal-Residual"
   ]
  },
  {
   "cell_type": "code",
   "execution_count": 10,
   "id": "86d1e507",
   "metadata": {},
   "outputs": [
    {
     "data": {
      "text/html": [
       "<table class=\"simpletable\">\n",
       "<caption>SARIMAX Results</caption>\n",
       "<tr>\n",
       "  <th>Dep. Variable:</th>           <td>y</td>        <th>  No. Observations:  </th>    <td>488</td>   \n",
       "</tr>\n",
       "<tr>\n",
       "  <th>Model:</th>           <td>SARIMAX(1, 1, 1)</td> <th>  Log Likelihood     </th> <td>-2129.040</td>\n",
       "</tr>\n",
       "<tr>\n",
       "  <th>Date:</th>            <td>Mon, 06 Jun 2022</td> <th>  AIC                </th> <td>4264.081</td> \n",
       "</tr>\n",
       "<tr>\n",
       "  <th>Time:</th>                <td>11:13:00</td>     <th>  BIC                </th> <td>4276.645</td> \n",
       "</tr>\n",
       "<tr>\n",
       "  <th>Sample:</th>                  <td>0</td>        <th>  HQIC               </th> <td>4269.017</td> \n",
       "</tr>\n",
       "<tr>\n",
       "  <th></th>                      <td> - 488</td>      <th>                     </th>     <td> </td>    \n",
       "</tr>\n",
       "<tr>\n",
       "  <th>Covariance Type:</th>        <td>opg</td>       <th>                     </th>     <td> </td>    \n",
       "</tr>\n",
       "</table>\n",
       "<table class=\"simpletable\">\n",
       "<tr>\n",
       "     <td></td>       <th>coef</th>     <th>std err</th>      <th>z</th>      <th>P>|z|</th>  <th>[0.025</th>    <th>0.975]</th>  \n",
       "</tr>\n",
       "<tr>\n",
       "  <th>ar.L1</th>  <td>    0.7638</td> <td>    0.132</td> <td>    5.783</td> <td> 0.000</td> <td>    0.505</td> <td>    1.023</td>\n",
       "</tr>\n",
       "<tr>\n",
       "  <th>ma.L1</th>  <td>   -0.8436</td> <td>    0.110</td> <td>   -7.649</td> <td> 0.000</td> <td>   -1.060</td> <td>   -0.627</td>\n",
       "</tr>\n",
       "<tr>\n",
       "  <th>sigma2</th> <td>  367.0523</td> <td>   12.835</td> <td>   28.597</td> <td> 0.000</td> <td>  341.896</td> <td>  392.209</td>\n",
       "</tr>\n",
       "</table>\n",
       "<table class=\"simpletable\">\n",
       "<tr>\n",
       "  <th>Ljung-Box (L1) (Q):</th>     <td>0.00</td> <th>  Jarque-Bera (JB):  </th> <td>531.16</td>\n",
       "</tr>\n",
       "<tr>\n",
       "  <th>Prob(Q):</th>                <td>0.99</td> <th>  Prob(JB):          </th>  <td>0.00</td> \n",
       "</tr>\n",
       "<tr>\n",
       "  <th>Heteroskedasticity (H):</th> <td>0.45</td> <th>  Skew:              </th>  <td>-0.97</td>\n",
       "</tr>\n",
       "<tr>\n",
       "  <th>Prob(H) (two-sided):</th>    <td>0.00</td> <th>  Kurtosis:          </th>  <td>7.74</td> \n",
       "</tr>\n",
       "</table><br/><br/>Warnings:<br/>[1] Covariance matrix calculated using the outer product of gradients (complex-step)."
      ],
      "text/plain": [
       "<class 'statsmodels.iolib.summary.Summary'>\n",
       "\"\"\"\n",
       "                               SARIMAX Results                                \n",
       "==============================================================================\n",
       "Dep. Variable:                      y   No. Observations:                  488\n",
       "Model:               SARIMAX(1, 1, 1)   Log Likelihood               -2129.040\n",
       "Date:                Mon, 06 Jun 2022   AIC                           4264.081\n",
       "Time:                        11:13:00   BIC                           4276.645\n",
       "Sample:                             0   HQIC                          4269.017\n",
       "                                - 488                                         \n",
       "Covariance Type:                  opg                                         \n",
       "==============================================================================\n",
       "                 coef    std err          z      P>|z|      [0.025      0.975]\n",
       "------------------------------------------------------------------------------\n",
       "ar.L1          0.7638      0.132      5.783      0.000       0.505       1.023\n",
       "ma.L1         -0.8436      0.110     -7.649      0.000      -1.060      -0.627\n",
       "sigma2       367.0523     12.835     28.597      0.000     341.896     392.209\n",
       "===================================================================================\n",
       "Ljung-Box (L1) (Q):                   0.00   Jarque-Bera (JB):               531.16\n",
       "Prob(Q):                              0.99   Prob(JB):                         0.00\n",
       "Heteroskedasticity (H):               0.45   Skew:                            -0.97\n",
       "Prob(H) (two-sided):                  0.00   Kurtosis:                         7.74\n",
       "===================================================================================\n",
       "\n",
       "Warnings:\n",
       "[1] Covariance matrix calculated using the outer product of gradients (complex-step).\n",
       "\"\"\""
      ]
     },
     "execution_count": 10,
     "metadata": {},
     "output_type": "execute_result"
    }
   ],
   "source": [
    "# Use pmdarima.auto_arima to determine ARIMA Orders\n",
    "auto_arima(df['Open'],seasonal=False).summary()"
   ]
  },
  {
   "cell_type": "code",
   "execution_count": 11,
   "id": "2a8893ee",
   "metadata": {},
   "outputs": [
    {
     "name": "stdout",
     "output_type": "stream",
     "text": [
      "Augmented Dickey-Fuller Test: Gold Price Prediction\n",
      "ADF test statistic      -23.530868\n",
      "p-value                   0.000000\n",
      "# lags used               0.000000\n",
      "# observations          486.000000\n",
      "critical value (1%)      -3.443877\n",
      "critical value (5%)      -2.867505\n",
      "critical value (10%)     -2.569947\n",
      "Strong evidence against the null hypothesis\n",
      "Reject the null hypothesis\n",
      "Data has no unit root and is stationary\n"
     ]
    }
   ],
   "source": [
    "# Run the augmented Dickey-Fuller Test on the First Difference\n",
    "from statsmodels.tsa.statespace.tools import diff\n",
    "df['1std']=diff(df['Open'],k_diff=1)\n",
    "adf_test(df['1std'],'Gold Price Prediction')"
   ]
  },
  {
   "cell_type": "code",
   "execution_count": 12,
   "id": "4649e3c6",
   "metadata": {},
   "outputs": [
    {
     "data": {
      "image/png": "[encoded data removed]",
      "text/plain": [
       "<Figure size 432x288 with 1 Axes>"
      ]
     },
     "metadata": {
      "needs_background": "light"
     },
     "output_type": "display_data"
    }
   ],
   "source": [
    "# Run the ACF plot\n",
    "plot_acf(df['Open'],title='Autocorrelation',lags=40);"
   ]
  },
  {
   "cell_type": "code",
   "execution_count": 13,
   "id": "82696ee2",
   "metadata": {},
   "outputs": [
    {
     "data": {
      "image/png": "[encoded data removed]",
      "text/plain": [
       "<Figure size 432x288 with 1 Axes>"
      ]
     },
     "metadata": {
      "needs_background": "light"
     },
     "output_type": "display_data"
    }
   ],
   "source": [
    "# Run the PACF plot\n",
    "plot_pacf(df['Open'],title='Partial Autocorrelation',lags=40);"
   ]
  },
  {
   "cell_type": "code",
   "execution_count": 14,
   "id": "3b4da8b2",
   "metadata": {},
   "outputs": [
    {
     "name": "stdout",
     "output_type": "stream",
     "text": [
      "Performing stepwise search to minimize aic\n",
      " ARIMA(0,1,0)(0,0,0)[0] intercept   : AIC=4269.406, Time=0.03 sec\n",
      " ARIMA(1,1,0)(0,0,0)[0] intercept   : AIC=4269.208, Time=0.12 sec\n",
      " ARIMA(0,1,1)(0,0,0)[0] intercept   : AIC=4268.950, Time=0.09 sec\n",
      " ARIMA(0,1,0)(0,0,0)[0]             : AIC=4267.492, Time=0.01 sec\n",
      " ARIMA(1,1,1)(0,0,0)[0] intercept   : AIC=4265.863, Time=0.22 sec\n",
      " ARIMA(2,1,1)(0,0,0)[0] intercept   : AIC=4267.863, Time=0.32 sec\n",
      " ARIMA(1,1,2)(0,0,0)[0] intercept   : AIC=4267.863, Time=0.32 sec\n",
      " ARIMA(0,1,2)(0,0,0)[0] intercept   : AIC=4269.286, Time=0.20 sec\n",
      " ARIMA(2,1,0)(0,0,0)[0] intercept   : AIC=4269.751, Time=0.21 sec\n",
      " ARIMA(2,1,2)(0,0,0)[0] intercept   : AIC=4269.389, Time=0.66 sec\n",
      " ARIMA(1,1,1)(0,0,0)[0]             : AIC=4264.081, Time=0.12 sec\n",
      " ARIMA(0,1,1)(0,0,0)[0]             : AIC=4267.052, Time=0.04 sec\n",
      " ARIMA(1,1,0)(0,0,0)[0]             : AIC=4267.307, Time=0.04 sec\n",
      " ARIMA(2,1,1)(0,0,0)[0]             : AIC=4266.081, Time=0.24 sec\n",
      " ARIMA(1,1,2)(0,0,0)[0]             : AIC=4266.081, Time=0.16 sec\n",
      " ARIMA(0,1,2)(0,0,0)[0]             : AIC=4267.408, Time=0.09 sec\n",
      " ARIMA(2,1,0)(0,0,0)[0]             : AIC=4267.863, Time=0.08 sec\n",
      " ARIMA(2,1,2)(0,0,0)[0]             : AIC=4267.604, Time=0.44 sec\n",
      "\n",
      "Best model:  ARIMA(1,1,1)(0,0,0)[0]          \n",
      "Total fit time: 3.407 seconds\n"
     ]
    },
    {
     "data": {
      "text/html": [
       "<table class=\"simpletable\">\n",
       "<caption>SARIMAX Results</caption>\n",
       "<tr>\n",
       "  <th>Dep. Variable:</th>           <td>y</td>        <th>  No. Observations:  </th>    <td>488</td>   \n",
       "</tr>\n",
       "<tr>\n",
       "  <th>Model:</th>           <td>SARIMAX(1, 1, 1)</td> <th>  Log Likelihood     </th> <td>-2129.040</td>\n",
       "</tr>\n",
       "<tr>\n",
       "  <th>Date:</th>            <td>Mon, 06 Jun 2022</td> <th>  AIC                </th> <td>4264.081</td> \n",
       "</tr>\n",
       "<tr>\n",
       "  <th>Time:</th>                <td>11:13:12</td>     <th>  BIC                </th> <td>4276.645</td> \n",
       "</tr>\n",
       "<tr>\n",
       "  <th>Sample:</th>                  <td>0</td>        <th>  HQIC               </th> <td>4269.017</td> \n",
       "</tr>\n",
       "<tr>\n",
       "  <th></th>                      <td> - 488</td>      <th>                     </th>     <td> </td>    \n",
       "</tr>\n",
       "<tr>\n",
       "  <th>Covariance Type:</th>        <td>opg</td>       <th>                     </th>     <td> </td>    \n",
       "</tr>\n",
       "</table>\n",
       "<table class=\"simpletable\">\n",
       "<tr>\n",
       "     <td></td>       <th>coef</th>     <th>std err</th>      <th>z</th>      <th>P>|z|</th>  <th>[0.025</th>    <th>0.975]</th>  \n",
       "</tr>\n",
       "<tr>\n",
       "  <th>ar.L1</th>  <td>    0.7638</td> <td>    0.132</td> <td>    5.783</td> <td> 0.000</td> <td>    0.505</td> <td>    1.023</td>\n",
       "</tr>\n",
       "<tr>\n",
       "  <th>ma.L1</th>  <td>   -0.8436</td> <td>    0.110</td> <td>   -7.649</td> <td> 0.000</td> <td>   -1.060</td> <td>   -0.627</td>\n",
       "</tr>\n",
       "<tr>\n",
       "  <th>sigma2</th> <td>  367.0523</td> <td>   12.835</td> <td>   28.597</td> <td> 0.000</td> <td>  341.896</td> <td>  392.209</td>\n",
       "</tr>\n",
       "</table>\n",
       "<table class=\"simpletable\">\n",
       "<tr>\n",
       "  <th>Ljung-Box (L1) (Q):</th>     <td>0.00</td> <th>  Jarque-Bera (JB):  </th> <td>531.16</td>\n",
       "</tr>\n",
       "<tr>\n",
       "  <th>Prob(Q):</th>                <td>0.99</td> <th>  Prob(JB):          </th>  <td>0.00</td> \n",
       "</tr>\n",
       "<tr>\n",
       "  <th>Heteroskedasticity (H):</th> <td>0.45</td> <th>  Skew:              </th>  <td>-0.97</td>\n",
       "</tr>\n",
       "<tr>\n",
       "  <th>Prob(H) (two-sided):</th>    <td>0.00</td> <th>  Kurtosis:          </th>  <td>7.74</td> \n",
       "</tr>\n",
       "</table><br/><br/>Warnings:<br/>[1] Covariance matrix calculated using the outer product of gradients (complex-step)."
      ],
      "text/plain": [
       "<class 'statsmodels.iolib.summary.Summary'>\n",
       "\"\"\"\n",
       "                               SARIMAX Results                                \n",
       "==============================================================================\n",
       "Dep. Variable:                      y   No. Observations:                  488\n",
       "Model:               SARIMAX(1, 1, 1)   Log Likelihood               -2129.040\n",
       "Date:                Mon, 06 Jun 2022   AIC                           4264.081\n",
       "Time:                        11:13:12   BIC                           4276.645\n",
       "Sample:                             0   HQIC                          4269.017\n",
       "                                - 488                                         \n",
       "Covariance Type:                  opg                                         \n",
       "==============================================================================\n",
       "                 coef    std err          z      P>|z|      [0.025      0.975]\n",
       "------------------------------------------------------------------------------\n",
       "ar.L1          0.7638      0.132      5.783      0.000       0.505       1.023\n",
       "ma.L1         -0.8436      0.110     -7.649      0.000      -1.060      -0.627\n",
       "sigma2       367.0523     12.835     28.597      0.000     341.896     392.209\n",
       "===================================================================================\n",
       "Ljung-Box (L1) (Q):                   0.00   Jarque-Bera (JB):               531.16\n",
       "Prob(Q):                              0.99   Prob(JB):                         0.00\n",
       "Heteroskedasticity (H):               0.45   Skew:                            -0.97\n",
       "Prob(H) (two-sided):                  0.00   Kurtosis:                         7.74\n",
       "===================================================================================\n",
       "\n",
       "Warnings:\n",
       "[1] Covariance matrix calculated using the outer product of gradients (complex-step).\n",
       "\"\"\""
      ]
     },
     "execution_count": 14,
     "metadata": {},
     "output_type": "execute_result"
    }
   ],
   "source": [
    "# Use pmdarima.auto_arima done stepwise to see if the previous p and q terms still makes sense\n",
    "stepwise_fit=auto_arima(df['Open'],start_p=0,start_q=0,max_p=2,max_q=2,m=7,seasonal=False,d=None,trace=True,error_action='ignore',suppress_warnings=True,stepwise=True)\n",
    "stepwise_fit.summary()"
   ]
  },
  {
   "cell_type": "code",
   "execution_count": 15,
   "id": "2352d288",
   "metadata": {},
   "outputs": [],
   "source": [
    "# Split the data into train/test sets\n",
    "train,test=df[df.index<'30/05/2022'],df[df.index>='30/05/2022']"
   ]
  },
  {
   "cell_type": "code",
   "execution_count": 16,
   "id": "7f16c54f",
   "metadata": {},
   "outputs": [
    {
     "data": {
      "text/html": [
       "<table class=\"simpletable\">\n",
       "<caption>SARIMAX Results</caption>\n",
       "<tr>\n",
       "  <th>Dep. Variable:</th>         <td>Open</td>       <th>  No. Observations:  </th>    <td>481</td>   \n",
       "</tr>\n",
       "<tr>\n",
       "  <th>Model:</th>            <td>ARIMA(1, 1, 1)</td>  <th>  Log Likelihood     </th> <td>-2100.249</td>\n",
       "</tr>\n",
       "<tr>\n",
       "  <th>Date:</th>            <td>Mon, 06 Jun 2022</td> <th>  AIC                </th> <td>4206.497</td> \n",
       "</tr>\n",
       "<tr>\n",
       "  <th>Time:</th>                <td>11:13:16</td>     <th>  BIC                </th> <td>4219.019</td> \n",
       "</tr>\n",
       "<tr>\n",
       "  <th>Sample:</th>                  <td>0</td>        <th>  HQIC               </th> <td>4211.419</td> \n",
       "</tr>\n",
       "<tr>\n",
       "  <th></th>                      <td> - 481</td>      <th>                     </th>     <td> </td>    \n",
       "</tr>\n",
       "<tr>\n",
       "  <th>Covariance Type:</th>        <td>opg</td>       <th>                     </th>     <td> </td>    \n",
       "</tr>\n",
       "</table>\n",
       "<table class=\"simpletable\">\n",
       "<tr>\n",
       "     <td></td>       <th>coef</th>     <th>std err</th>      <th>z</th>      <th>P>|z|</th>  <th>[0.025</th>    <th>0.975]</th>  \n",
       "</tr>\n",
       "<tr>\n",
       "  <th>ar.L1</th>  <td>    0.7705</td> <td>    0.133</td> <td>    5.805</td> <td> 0.000</td> <td>    0.510</td> <td>    1.031</td>\n",
       "</tr>\n",
       "<tr>\n",
       "  <th>ma.L1</th>  <td>   -0.8481</td> <td>    0.111</td> <td>   -7.653</td> <td> 0.000</td> <td>   -1.065</td> <td>   -0.631</td>\n",
       "</tr>\n",
       "<tr>\n",
       "  <th>sigma2</th> <td>  369.8403</td> <td>   13.035</td> <td>   28.373</td> <td> 0.000</td> <td>  344.293</td> <td>  395.388</td>\n",
       "</tr>\n",
       "</table>\n",
       "<table class=\"simpletable\">\n",
       "<tr>\n",
       "  <th>Ljung-Box (L1) (Q):</th>     <td>0.00</td> <th>  Jarque-Bera (JB):  </th> <td>521.47</td>\n",
       "</tr>\n",
       "<tr>\n",
       "  <th>Prob(Q):</th>                <td>1.00</td> <th>  Prob(JB):          </th>  <td>0.00</td> \n",
       "</tr>\n",
       "<tr>\n",
       "  <th>Heteroskedasticity (H):</th> <td>0.44</td> <th>  Skew:              </th>  <td>-0.97</td>\n",
       "</tr>\n",
       "<tr>\n",
       "  <th>Prob(H) (two-sided):</th>    <td>0.00</td> <th>  Kurtosis:          </th>  <td>7.72</td> \n",
       "</tr>\n",
       "</table><br/><br/>Warnings:<br/>[1] Covariance matrix calculated using the outer product of gradients (complex-step)."
      ],
      "text/plain": [
       "<class 'statsmodels.iolib.summary.Summary'>\n",
       "\"\"\"\n",
       "                               SARIMAX Results                                \n",
       "==============================================================================\n",
       "Dep. Variable:                   Open   No. Observations:                  481\n",
       "Model:                 ARIMA(1, 1, 1)   Log Likelihood               -2100.249\n",
       "Date:                Mon, 06 Jun 2022   AIC                           4206.497\n",
       "Time:                        11:13:16   BIC                           4219.019\n",
       "Sample:                             0   HQIC                          4211.419\n",
       "                                - 481                                         \n",
       "Covariance Type:                  opg                                         \n",
       "==============================================================================\n",
       "                 coef    std err          z      P>|z|      [0.025      0.975]\n",
       "------------------------------------------------------------------------------\n",
       "ar.L1          0.7705      0.133      5.805      0.000       0.510       1.031\n",
       "ma.L1         -0.8481      0.111     -7.653      0.000      -1.065      -0.631\n",
       "sigma2       369.8403     13.035     28.373      0.000     344.293     395.388\n",
       "===================================================================================\n",
       "Ljung-Box (L1) (Q):                   0.00   Jarque-Bera (JB):               521.47\n",
       "Prob(Q):                              1.00   Prob(JB):                         0.00\n",
       "Heteroskedasticity (H):               0.44   Skew:                            -0.97\n",
       "Prob(H) (two-sided):                  0.00   Kurtosis:                         7.72\n",
       "===================================================================================\n",
       "\n",
       "Warnings:\n",
       "[1] Covariance matrix calculated using the outer product of gradients (complex-step).\n",
       "\"\"\""
      ]
     },
     "execution_count": 16,
     "metadata": {},
     "output_type": "execute_result"
    }
   ],
   "source": [
    "# Fit an ARIMA(1,1,1) Model\n",
    "model=ARIMA(train.Open,order=(1,1,1))\n",
    "results=model.fit()\n",
    "results.summary()"
   ]
  },
  {
   "cell_type": "code",
   "execution_count": 17,
   "id": "3fd2371e",
   "metadata": {},
   "outputs": [],
   "source": [
    "# Obtain predicted values\n",
    "start=len(train)\n",
    "end=len(train)+len(test)-1\n",
    "predictions = results.predict(start=start, end=end, dynamic=False, typ='levels').rename('ARIMA(1,1,1) Predictions')"
   ]
  },
  {
   "cell_type": "code",
   "execution_count": 18,
   "id": "fce96dd8",
   "metadata": {},
   "outputs": [
    {
     "name": "stdout",
     "output_type": "stream",
     "text": [
      "            ARIMA(1,1,1) Predictions\n",
      "Date                                \n",
      "2022-05-30               1850.881043\n",
      "2022-05-31               1851.136106\n",
      "2022-06-01               1851.332627\n",
      "2022-06-02               1851.484043\n",
      "2022-06-03               1851.600707\n",
      "2022-06-05               1851.690594\n",
      "2022-06-06               1851.759850 <class 'pandas.core.indexes.datetimes.DatetimeIndex'>\n"
     ]
    }
   ],
   "source": [
    "# Reindex predictions to the right datetime Series\n",
    "predictions=pd.DataFrame(predictions)\n",
    "predictions.index=test.index\n",
    "print(predictions,type(predictions.index))"
   ]
  },
  {
   "cell_type": "code",
   "execution_count": 19,
   "id": "7f444e27",
   "metadata": {},
   "outputs": [],
   "source": [
    "# Create new DataFrame by reset_index() to avoid error when compare predictions to expected values\n",
    "newtest=test.reset_index(drop=True)\n",
    "#print(newtest)\n",
    "newpredictions=predictions.reset_index(drop=True)\n",
    "#print(newpredictions)"
   ]
  },
  {
   "cell_type": "code",
   "execution_count": 20,
   "id": "2193ac29",
   "metadata": {},
   "outputs": [
    {
     "name": "stdout",
     "output_type": "stream",
     "text": [
      "predicted=1850.881043, expected=1847.79\n",
      "predicted=1851.136106, expected=1856.5\n",
      "predicted=1851.332627, expected=1840.0\n",
      "predicted=1851.484043, expected=1849.9\n",
      "predicted=1851.600707, expected=1872.6\n",
      "predicted=1851.690594, expected=1853.4\n",
      "predicted= 1851.75985, expected=1854.25\n"
     ]
    }
   ],
   "source": [
    "# Compare predictions to expected values\n",
    "for x in range(len(predictions)):\n",
    "    print(f\"predicted={newpredictions['ARIMA(1,1,1) Predictions'].loc[x]:11.10}\"\",\",f\"expected={newtest['Open'].loc[x]}\")"
   ]
  },
  {
   "cell_type": "code",
   "execution_count": 21,
   "id": "7826f4f9",
   "metadata": {},
   "outputs": [
    {
     "data": {
      "image/png": "[encoded data removed]",
      "text/plain": [
       "<Figure size 864x432 with 1 Axes>"
      ]
     },
     "metadata": {
      "needs_background": "light"
     },
     "output_type": "display_data"
    }
   ],
   "source": [
    "# Plot predictions against known values\n",
    "import matplotlib.pyplot as plt\n",
    "Open=pd.DataFrame(df['Open'])\n",
    "plt.figure(figsize=(12,6))\n",
    "plt.plot(test.Open)\n",
    "plt.plot(predictions,color='red')\n",
    "plt.ylabel(\"Gold Price\")\n",
    "plt.title(\"Gold Price Prediction\")\n",
    "plt.grid()\n",
    "plt.legend([\"Open\",\"ARIMA(1,1,1) Predictions\"])\n",
    "plt.show()"
   ]
  },
  {
   "cell_type": "code",
   "execution_count": 22,
   "id": "771ff7f4",
   "metadata": {},
   "outputs": [
    {
     "name": "stdout",
     "output_type": "stream",
     "text": [
      "ARIMA(1,1,1) MSE: 88.47954040040278\n",
      "ARIMA(1,1,1) RMSE: 9.40635638280853\n"
     ]
    }
   ],
   "source": [
    "# Evaluate the Model\n",
    "from sklearn.metrics import mean_squared_error\n",
    "import math\n",
    "MSE=mean_squared_error(test['Open'],predictions)\n",
    "print(f\"ARIMA(1,1,1) MSE:\",MSE)\n",
    "RMSE=math.sqrt(MSE)\n",
    "print(f\"ARIMA(1,1,1) RMSE:\",RMSE)"
   ]
  },
  {
   "cell_type": "code",
   "execution_count": 23,
   "id": "2fbb4678",
   "metadata": {},
   "outputs": [],
   "source": [
    "# Retrain the model on the full data\n",
    "model = ARIMA(df['Open'],order=(1,1,1))\n",
    "results = model.fit()\n",
    "fcast = results.predict(len(df),len(df)+5,typ='levels').rename('ARIMA(1,1,1) Forecast')"
   ]
  },
  {
   "cell_type": "code",
   "execution_count": 24,
   "id": "66997abb",
   "metadata": {},
   "outputs": [],
   "source": [
    "# Get date for 5 following days to reindex fcast\n",
    "s=datetime.date(2020,8,1)\n",
    "e=datetime.date(2022,6,6)\n",
    "dura=e-s\n",
    "dura=dura.days\n",
    "#print(dura,dura-len(df))\n",
    "dura_fcast=datetime.timedelta(days=5)\n",
    "#print(dura_fcast)\n",
    "start_fcast=e\n",
    "end_fcast=start_fcast+dura_fcast\n",
    "#create arr_date\n",
    "arr_date = []\n",
    "#print(start_fcast,end_fcast)\n",
    "for i in range (6):\n",
    "    period=datetime.timedelta(days=i)\n",
    "    if (start_fcast+period)<=end_fcast:\n",
    "        #print(start_fcast+period)\n",
    "        arr_date.append(start_fcast+period)"
   ]
  },
  {
   "cell_type": "code",
   "execution_count": 25,
   "id": "8760128b",
   "metadata": {},
   "outputs": [
    {
     "name": "stdout",
     "output_type": "stream",
     "text": [
      "            ARIMA(1,1,1) Forecast\n",
      "Date                             \n",
      "2022-06-06            1854.256833\n",
      "2022-06-07            1854.262052\n",
      "2022-06-08            1854.266039\n",
      "2022-06-09            1854.269083\n",
      "2022-06-10            1854.271409\n",
      "2022-06-11            1854.273185 <class 'pandas.core.indexes.base.Index'>\n"
     ]
    }
   ],
   "source": [
    "# Reindex fcast to the right datetime\n",
    "fcast=pd.DataFrame(fcast)\n",
    "#print(fcast)\n",
    "index_fcast=pd.DataFrame(data={\"Date\": arr_date},index=fcast.index)\n",
    "#print(fcast)\n",
    "fcast.index = index_fcast[\"Date\"]\n",
    "print(fcast,type(fcast.index))"
   ]
  },
  {
   "cell_type": "code",
   "execution_count": 26,
   "id": "5768095b",
   "metadata": {},
   "outputs": [
    {
     "data": {
      "image/png": "[encoded data removed]",
      "text/plain": [
       "<Figure size 864x432 with 1 Axes>"
      ]
     },
     "metadata": {
      "needs_background": "light"
     },
     "output_type": "display_data"
    }
   ],
   "source": [
    "# Forecast the future\n",
    "Open=pd.DataFrame(df['Open'])\n",
    "plt.figure(figsize=(12,6))\n",
    "#plt.plot(Open)\n",
    "plt.plot(test.Open, color= \"blue\")\n",
    "plt.plot(fcast,color='red',label = 'predict')\n",
    "plt.ylabel(\"Gold Price\")\n",
    "plt.title(\"Gold Price Prediction\")\n",
    "plt.grid()\n",
    "#plt.legend([\"DF\",\"Test\",\"ARIMA(1,1,1) Predictions\"])\n",
    "plt.legend([\"Test\",\"ARIMA(1,1,1) Predictions\"])\n",
    "plt.show()\n"
   ]
  },
  {
   "cell_type": "code",
   "execution_count": null,
   "id": "7c301307",
   "metadata": {},
   "outputs": [],
   "source": []
  },
  {
   "cell_type": "code",
   "execution_count": null,
   "id": "34a3903b",
   "metadata": {},
   "outputs": [],
   "source": []
  }
 ],
 "metadata": {
  "kernelspec": {
   "display_name": "Python 3 (ipykernel)",
   "language": "python",
   "name": "python3"
  },
  "language_info": {
   "codemirror_mode": {
    "name": "ipython",
    "version": 3
   },
   "file_extension": ".py",
   "mimetype": "text/x-python",
   "name": "python",
   "nbconvert_exporter": "python",
   "pygments_lexer": "ipython3",
   "version": "3.10.4"
  }
 },
 "nbformat": 4,
 "nbformat_minor": 5
}
